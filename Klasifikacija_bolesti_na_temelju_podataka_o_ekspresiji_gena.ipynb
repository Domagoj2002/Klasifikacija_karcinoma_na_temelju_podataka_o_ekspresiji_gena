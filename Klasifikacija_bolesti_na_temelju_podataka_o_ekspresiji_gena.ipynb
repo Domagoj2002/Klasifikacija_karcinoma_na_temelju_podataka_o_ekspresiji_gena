{
 "cells": [
  {
   "cell_type": "markdown",
   "metadata": {},
   "source": [
    "Sveučilište u Zagrebu  \n",
    "Fakultet elektrotehnike i računarstva  \n",
    "Mentor: Krešimir Križanović\n",
    "\n",
    "### Klasifikacija_bolesti_na_temelju_podataka_o_ekspresiji_gena\n",
    "## SEMINAR 1 2024./2025.  \n",
    "Domagoj Sviličić\n",
    "\n",
    "http://www.fer.unizg.hr"
   ]
  },
  {
   "cell_type": "markdown",
   "metadata": {},
   "source": [
    "Učitavanje potrebnih biblioteka"
   ]
  },
  {
   "cell_type": "markdown",
   "metadata": {},
   "source": []
  },
  {
   "cell_type": "code",
   "execution_count": 2,
   "metadata": {},
   "outputs": [],
   "source": [
    "# Učitaj osnovne biblioteke...\n",
    "import sklearn\n",
    "import matplotlib.pyplot as plt\n",
    "# %pylab inline\n",
    "%matplotlib inline\n",
    "import numpy as np\n",
    "import pandas as pd\n",
    "from sklearn.model_selection import train_test_split\n",
    "from sklearn.linear_model import LogisticRegression\n",
    "from sklearn.metrics import accuracy_score\n"
   ]
  },
  {
   "cell_type": "code",
   "execution_count": 3,
   "metadata": {
    "collapsed": true
   },
   "outputs": [],
   "source": [
    "def plot_2d_clf_problem(X, y, h=None):\n",
    "    '''\n",
    "    Plots a two-dimensional labeled dataset (X,y) and, if function h(x) is given, \n",
    "    the decision surfaces.\n",
    "    '''\n",
    "    assert X.shape[1] == 2, \"Dataset is not two-dimensional\"\n",
    "    if h!=None : \n",
    "        # Create a mesh to plot in\n",
    "        r = 0.04  # mesh resolution\n",
    "        x_min, x_max = X[:, 0].min() - 1, X[:, 0].max() + 1\n",
    "        y_min, y_max = X[:, 1].min() - 1, X[:, 1].max() + 1\n",
    "        xx, yy = np.meshgrid(np.arange(x_min, x_max, r),\n",
    "                             np.arange(y_min, y_max, r))\n",
    "        XX=np.c_[xx.ravel(), yy.ravel()]\n",
    "        try:\n",
    "            Z_test = h(XX)\n",
    "            if Z_test.shape == ():\n",
    "                # h returns a scalar when applied to a matrix; map explicitly\n",
    "                Z = np.array(list(map(h,XX)))\n",
    "            else :\n",
    "                Z = Z_test\n",
    "        except ValueError:\n",
    "            # can't apply to a matrix; map explicitly\n",
    "            Z = np.array(list(map(h,XX)))\n",
    "        # Put the result into a color plot\n",
    "        Z = Z.reshape(xx.shape)\n",
    "        plt.contourf(xx, yy, Z, cmap=plt.cm.Pastel1)\n",
    "\n",
    "    # Plot the dataset\n",
    "    plt.scatter(X[:,0],X[:,1], c=y, cmap=plt.cm.tab20b, marker='o', s=50);\n",
    "    plt.show()"
   ]
  },
  {
   "cell_type": "markdown",
   "metadata": {},
   "source": [
    "### 2. Višeklasna (5 klasa) klasifikacija karcinoma dojke logističkom regresijom"
   ]
  },
  {
   "cell_type": "code",
   "execution_count": null,
   "metadata": {
    "collapsed": true
   },
   "outputs": [
    {
     "name": "stdout",
     "output_type": "stream",
     "text": [
      "Ukupan broj stupaca: 54677\n",
      "Dimenzije značajki (X): (151, 54675)\n",
      "Dimenzije oznaka (y): (151,)\n",
      "Dimenzije značajki nakon dodavanja stupca jedinica (X): (151, 54676)\n",
      "Točnost za različite omjere podjele podataka:\n",
      "Omjer 7:3: Točnost = 0.8913\n",
      "Omjer 6:4: Točnost = 0.9016\n",
      "Omjer 1:1: Točnost = 0.9342\n"
     ]
    }
   ],
   "source": [
    "import numpy as np\n",
    "import pandas as pd\n",
    "from sklearn.model_selection import train_test_split\n",
    "from sklearn.linear_model import LogisticRegression\n",
    "from sklearn.metrics import accuracy_score\n",
    "\n",
    "# Učitavanje podataka iz CSV datoteke\n",
    "file_path = 'Breast_GSE45827.csv'  # zamijeniti s točnom putanjom do datoteke\n",
    "data = pd.read_csv(file_path)\n",
    "\n",
    "# Brojanje ukupnog broja stupaca u podacima\n",
    "total_columns = data.shape[1]\n",
    "print(f\"Ukupan broj stupaca: {total_columns}\")\n",
    "\n",
    "# Izdvajanje oznaka klase i značajki\n",
    "y = data.iloc[:, 1]  # drugi stupac s oznakama klase\n",
    "X = data.iloc[:, 2:]  # svi stupci nakon drugog s razinama ekspresije gena\n",
    "\n",
    "# Provjera dimenzija\n",
    "print(f\"Dimenzije značajki (X): {X.shape}\")\n",
    "print(f\"Dimenzije oznaka (y): {y.shape}\")\n",
    "\n",
    "# Dodavanje stupca jedinica u matricu dizajna X\n",
    "X = np.c_[np.ones(X.shape[0]), X]  # dodavanje prvog stupca jedinica  //provjeriti na konzultacijama da li je to uopće potrebno raditi\n",
    "\n",
    "# Provjera dimenzija nakon dodavanja stupca jedinica\n",
    "print(f\"Dimenzije značajki nakon dodavanja stupca jedinica (X): {X.shape}\")\n",
    "\n",
    "# Funkcija za treniranje modela i evaluaciju točnosti za dani omjer podjele\n",
    "def evaluate_model(X, y, test_size):\n",
    "    # Podjela podataka\n",
    "    X_train, X_test, y_train, y_test = train_test_split(X, y, test_size=test_size, random_state=0)  # postavljanje random_state za replikaciju rezultata\n",
    "    # Treniranje modela logističke regresije\n",
    "    model = LogisticRegression(max_iter=1000, solver='lbfgs')  # automatski odabir metode za višeklasnu/multinomijalnu klasifikaciju\n",
    "    model.fit(X_train, y_train)\n",
    "    # Predikcija i točnost\n",
    "    y_pred = model.predict(X_test)\n",
    "    accuracy = accuracy_score(y_test, y_pred)\n",
    "    return accuracy\n",
    "\n",
    "# Evaluacija za različite omjere\n",
    "results = {\n",
    "    \"7:3\": evaluate_model(X, y, test_size=0.3),\n",
    "    \"6:4\": evaluate_model(X, y, test_size=0.4),\n",
    "    \"1:1\": evaluate_model(X, y, test_size=0.5),\n",
    "}\n",
    "\n",
    "# Ispis rezultata\n",
    "print(\"Točnost za različite omjere podjele podataka:\")\n",
    "for ratio, accuracy in results.items():\n",
    "    print(f\"Omjer {ratio}: Točnost = {accuracy:.4f}\")\n",
    "\n"
   ]
  }
 ],
 "metadata": {
  "anaconda-cloud": {},
  "kernelspec": {
   "display_name": "strojno_ucenje",
   "language": "python",
   "name": "python3"
  },
  "language_info": {
   "codemirror_mode": {
    "name": "ipython",
    "version": 3
   },
   "file_extension": ".py",
   "mimetype": "text/x-python",
   "name": "python",
   "nbconvert_exporter": "python",
   "pygments_lexer": "ipython3",
   "version": "3.10.15"
  }
 },
 "nbformat": 4,
 "nbformat_minor": 2
}
